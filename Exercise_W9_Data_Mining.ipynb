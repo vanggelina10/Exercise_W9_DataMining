{
 "cells": [
  {
   "cell_type": "markdown",
   "id": "7ac99525",
   "metadata": {},
   "source": [
    "# Arti Association Rule Mining"
   ]
  },
  {
   "cell_type": "markdown",
   "id": "13cb2c3f",
   "metadata": {},
   "source": [
    "Association rule mining adalah salah satu metode data mining yang dapat mengidentifikasi hubungan kesamaan antar item. \n",
    "Dalam metode ini dibutuhkan algoritma untuk mencari kandidat aturan asosiasi. Salah satu algoritma yang biasa dipakai adalah \n",
    "algoritma apriori. Metode ini dimulai dengan mencari sejumlah frequent itemset dan dilanjutkan dengan pembentukan aturan-aturan \n",
    "asosiasi (association rules).\n",
    "\n",
    "Association rules adalah mengetahui seberapa sering kombinasi item muncul dalam database, yang disebut sebagai frequent patterns."
   ]
  },
  {
   "cell_type": "markdown",
   "id": "1b467d47",
   "metadata": {},
   "source": [
    "# Algoritma "
   ]
  },
  {
   "cell_type": "markdown",
   "id": "d704f643",
   "metadata": {},
   "source": [
    "Algoritma adalah urutan atau langkah-langkah yang logis dan sistematis untuk memecahkan dan menyelesaikan suatu masalah.\n",
    "Algoritma Apriori adalah salah satu algoritma pada data mining untuk mencari frequent item/itemset pada transaksional database.\n",
    "\n",
    "Algoritma apriori banyak digunakan pada data transaksi atau biasa disebut market basket, misalnya sebuah swalayan memiliki \n",
    "market basket, dengan adanya algoritma apriori, pemilik swalayan dapat mengetahui pola pembelian seorang konsumen. "
   ]
  },
  {
   "cell_type": "markdown",
   "id": "2d422f4a",
   "metadata": {},
   "source": [
    "# Tipe Association Rule"
   ]
  },
  {
   "cell_type": "markdown",
   "id": "02a334d6",
   "metadata": {},
   "source": [
    "*1. Multi-relational association rule*"
   ]
  },
  {
   "cell_type": "markdown",
   "id": "e44979bb",
   "metadata": {},
   "source": [
    "Kelas baru aturan asosiasi, berbeda dari aturan asosiasi asli, sederhana, dan bahkan multi-relasional (biasanya diekstraksi \n",
    "dari database multi-relasional), setiap elemen aturan terdiri dari satu entitas tetapi banyak hubungan."
   ]
  },
  {
   "cell_type": "markdown",
   "id": "f8118e36",
   "metadata": {},
   "source": [
    "*2. Generalized association rule*"
   ]
  },
  {
   "cell_type": "markdown",
   "id": "3d8e18a6",
   "metadata": {},
   "source": [
    "Alat yang ampuh untuk mendapatkan gambaran kasar tentang pola menarik yang tersembunyi dalam data."
   ]
  },
  {
   "cell_type": "markdown",
   "id": "ff030e47",
   "metadata": {},
   "source": [
    "*3. Quantitative association rule*"
   ]
  },
  {
   "cell_type": "markdown",
   "id": "2ba30e7e",
   "metadata": {},
   "source": [
    "Jenis aturan asosiasi khusus. Tidak seperti aturan asosiasi umum, di mana sisi kiri dan kanan aturan harus berupa atribut \n",
    "kategori (nominal atau diskrit), setidaknya satu atribut (kiri atau kanan) aturan asosiasi kuantitatif harus berisi atribut \n",
    "numerik."
   ]
  },
  {
   "cell_type": "markdown",
   "id": "47bbfc42",
   "metadata": {},
   "source": [
    "*4. Interval information association rule*"
   ]
  },
  {
   "cell_type": "markdown",
   "id": "5192c400",
   "metadata": {},
   "source": [
    "# Bagian dari Association Rule"
   ]
  },
  {
   "cell_type": "markdown",
   "id": "f7cc8d13",
   "metadata": {},
   "source": [
    "* An antecedent = if\n",
    "* A consequent = then"
   ]
  },
  {
   "cell_type": "markdown",
   "id": "995a2bc3",
   "metadata": {},
   "source": [
    "# Penggunaan Association Rule Mining"
   ]
  },
  {
   "cell_type": "markdown",
   "id": "c51963fe",
   "metadata": {},
   "source": [
    "* Association Rule Mining: Basic Definitions\n",
    "* Association Rule Mining: Rule Evaluation Metrics"
   ]
  },
  {
   "cell_type": "markdown",
   "id": "6bd2cf51",
   "metadata": {},
   "source": [
    "# Teori dari Algoritma Apriori"
   ]
  },
  {
   "cell_type": "markdown",
   "id": "e9476fac",
   "metadata": {},
   "source": [
    "1. Support\n",
    "2. Confidence\n",
    "3. Lift"
   ]
  },
  {
   "cell_type": "markdown",
   "id": "61142cc9",
   "metadata": {},
   "source": [
    "# Implementasi Algoritma Apriori"
   ]
  },
  {
   "cell_type": "code",
   "execution_count": 39,
   "id": "79ed2e51",
   "metadata": {},
   "outputs": [],
   "source": [
    "#Import Library\n",
    "\n",
    "import numpy as np\n",
    "import matplotlib.pyplot as plt\n",
    "import pandas as pd\n",
    "from apyori import apriori"
   ]
  },
  {
   "cell_type": "code",
   "execution_count": 40,
   "id": "378aa494",
   "metadata": {},
   "outputs": [
    {
     "name": "stdout",
     "output_type": "stream",
     "text": [
      "Requirement already satisfied: apyori in c:\\users\\win10\\anaconda3\\lib\\site-packages (1.1.2)\n",
      "Note: you may need to restart the kernel to use updated packages.\n"
     ]
    }
   ],
   "source": [
    "pip install apyori"
   ]
  },
  {
   "cell_type": "code",
   "execution_count": 41,
   "id": "164dfca1",
   "metadata": {},
   "outputs": [
    {
     "data": {
      "text/html": [
       "<div>\n",
       "<style scoped>\n",
       "    .dataframe tbody tr th:only-of-type {\n",
       "        vertical-align: middle;\n",
       "    }\n",
       "\n",
       "    .dataframe tbody tr th {\n",
       "        vertical-align: top;\n",
       "    }\n",
       "\n",
       "    .dataframe thead th {\n",
       "        text-align: right;\n",
       "    }\n",
       "</style>\n",
       "<table border=\"1\" class=\"dataframe\">\n",
       "  <thead>\n",
       "    <tr style=\"text-align: right;\">\n",
       "      <th></th>\n",
       "      <th>shrimp</th>\n",
       "      <th>almonds</th>\n",
       "      <th>avocado</th>\n",
       "      <th>vegetables mix</th>\n",
       "      <th>green grapes</th>\n",
       "      <th>whole weat flour</th>\n",
       "      <th>yams</th>\n",
       "      <th>cottage cheese</th>\n",
       "      <th>energy drink</th>\n",
       "      <th>tomato juice</th>\n",
       "      <th>low fat yogurt</th>\n",
       "      <th>green tea</th>\n",
       "      <th>honey</th>\n",
       "      <th>salad</th>\n",
       "      <th>mineral water</th>\n",
       "      <th>salmon</th>\n",
       "      <th>antioxydant juice</th>\n",
       "      <th>frozen smoothie</th>\n",
       "      <th>spinach</th>\n",
       "      <th>olive oil</th>\n",
       "    </tr>\n",
       "  </thead>\n",
       "  <tbody>\n",
       "    <tr>\n",
       "      <th>0</th>\n",
       "      <td>burgers</td>\n",
       "      <td>meatballs</td>\n",
       "      <td>eggs</td>\n",
       "      <td>NaN</td>\n",
       "      <td>NaN</td>\n",
       "      <td>NaN</td>\n",
       "      <td>NaN</td>\n",
       "      <td>NaN</td>\n",
       "      <td>NaN</td>\n",
       "      <td>NaN</td>\n",
       "      <td>NaN</td>\n",
       "      <td>NaN</td>\n",
       "      <td>NaN</td>\n",
       "      <td>NaN</td>\n",
       "      <td>NaN</td>\n",
       "      <td>NaN</td>\n",
       "      <td>NaN</td>\n",
       "      <td>NaN</td>\n",
       "      <td>NaN</td>\n",
       "      <td>NaN</td>\n",
       "    </tr>\n",
       "    <tr>\n",
       "      <th>1</th>\n",
       "      <td>chutney</td>\n",
       "      <td>NaN</td>\n",
       "      <td>NaN</td>\n",
       "      <td>NaN</td>\n",
       "      <td>NaN</td>\n",
       "      <td>NaN</td>\n",
       "      <td>NaN</td>\n",
       "      <td>NaN</td>\n",
       "      <td>NaN</td>\n",
       "      <td>NaN</td>\n",
       "      <td>NaN</td>\n",
       "      <td>NaN</td>\n",
       "      <td>NaN</td>\n",
       "      <td>NaN</td>\n",
       "      <td>NaN</td>\n",
       "      <td>NaN</td>\n",
       "      <td>NaN</td>\n",
       "      <td>NaN</td>\n",
       "      <td>NaN</td>\n",
       "      <td>NaN</td>\n",
       "    </tr>\n",
       "    <tr>\n",
       "      <th>2</th>\n",
       "      <td>turkey</td>\n",
       "      <td>avocado</td>\n",
       "      <td>NaN</td>\n",
       "      <td>NaN</td>\n",
       "      <td>NaN</td>\n",
       "      <td>NaN</td>\n",
       "      <td>NaN</td>\n",
       "      <td>NaN</td>\n",
       "      <td>NaN</td>\n",
       "      <td>NaN</td>\n",
       "      <td>NaN</td>\n",
       "      <td>NaN</td>\n",
       "      <td>NaN</td>\n",
       "      <td>NaN</td>\n",
       "      <td>NaN</td>\n",
       "      <td>NaN</td>\n",
       "      <td>NaN</td>\n",
       "      <td>NaN</td>\n",
       "      <td>NaN</td>\n",
       "      <td>NaN</td>\n",
       "    </tr>\n",
       "    <tr>\n",
       "      <th>3</th>\n",
       "      <td>mineral water</td>\n",
       "      <td>milk</td>\n",
       "      <td>energy bar</td>\n",
       "      <td>whole wheat rice</td>\n",
       "      <td>green tea</td>\n",
       "      <td>NaN</td>\n",
       "      <td>NaN</td>\n",
       "      <td>NaN</td>\n",
       "      <td>NaN</td>\n",
       "      <td>NaN</td>\n",
       "      <td>NaN</td>\n",
       "      <td>NaN</td>\n",
       "      <td>NaN</td>\n",
       "      <td>NaN</td>\n",
       "      <td>NaN</td>\n",
       "      <td>NaN</td>\n",
       "      <td>NaN</td>\n",
       "      <td>NaN</td>\n",
       "      <td>NaN</td>\n",
       "      <td>NaN</td>\n",
       "    </tr>\n",
       "    <tr>\n",
       "      <th>4</th>\n",
       "      <td>low fat yogurt</td>\n",
       "      <td>NaN</td>\n",
       "      <td>NaN</td>\n",
       "      <td>NaN</td>\n",
       "      <td>NaN</td>\n",
       "      <td>NaN</td>\n",
       "      <td>NaN</td>\n",
       "      <td>NaN</td>\n",
       "      <td>NaN</td>\n",
       "      <td>NaN</td>\n",
       "      <td>NaN</td>\n",
       "      <td>NaN</td>\n",
       "      <td>NaN</td>\n",
       "      <td>NaN</td>\n",
       "      <td>NaN</td>\n",
       "      <td>NaN</td>\n",
       "      <td>NaN</td>\n",
       "      <td>NaN</td>\n",
       "      <td>NaN</td>\n",
       "      <td>NaN</td>\n",
       "    </tr>\n",
       "  </tbody>\n",
       "</table>\n",
       "</div>"
      ],
      "text/plain": [
       "           shrimp    almonds     avocado    vegetables mix green grapes  \\\n",
       "0         burgers  meatballs        eggs               NaN          NaN   \n",
       "1         chutney        NaN         NaN               NaN          NaN   \n",
       "2          turkey    avocado         NaN               NaN          NaN   \n",
       "3   mineral water       milk  energy bar  whole wheat rice    green tea   \n",
       "4  low fat yogurt        NaN         NaN               NaN          NaN   \n",
       "\n",
       "  whole weat flour yams cottage cheese energy drink tomato juice  \\\n",
       "0              NaN  NaN            NaN          NaN          NaN   \n",
       "1              NaN  NaN            NaN          NaN          NaN   \n",
       "2              NaN  NaN            NaN          NaN          NaN   \n",
       "3              NaN  NaN            NaN          NaN          NaN   \n",
       "4              NaN  NaN            NaN          NaN          NaN   \n",
       "\n",
       "  low fat yogurt green tea honey salad mineral water salmon antioxydant juice  \\\n",
       "0            NaN       NaN   NaN   NaN           NaN    NaN               NaN   \n",
       "1            NaN       NaN   NaN   NaN           NaN    NaN               NaN   \n",
       "2            NaN       NaN   NaN   NaN           NaN    NaN               NaN   \n",
       "3            NaN       NaN   NaN   NaN           NaN    NaN               NaN   \n",
       "4            NaN       NaN   NaN   NaN           NaN    NaN               NaN   \n",
       "\n",
       "  frozen smoothie spinach  olive oil  \n",
       "0             NaN     NaN        NaN  \n",
       "1             NaN     NaN        NaN  \n",
       "2             NaN     NaN        NaN  \n",
       "3             NaN     NaN        NaN  \n",
       "4             NaN     NaN        NaN  "
      ]
     },
     "execution_count": 41,
     "metadata": {},
     "output_type": "execute_result"
    }
   ],
   "source": [
    "#Import dataset\n",
    "\n",
    "store_data = pd.read_csv('https://raw.githubusercontent.com/vanggelina10/Exercise_W9_DataMining/main/store_data.csv')\n",
    "store_data.head()"
   ]
  },
  {
   "cell_type": "code",
   "execution_count": 42,
   "id": "bab94eb6",
   "metadata": {},
   "outputs": [
    {
     "data": {
      "text/html": [
       "<div>\n",
       "<style scoped>\n",
       "    .dataframe tbody tr th:only-of-type {\n",
       "        vertical-align: middle;\n",
       "    }\n",
       "\n",
       "    .dataframe tbody tr th {\n",
       "        vertical-align: top;\n",
       "    }\n",
       "\n",
       "    .dataframe thead th {\n",
       "        text-align: right;\n",
       "    }\n",
       "</style>\n",
       "<table border=\"1\" class=\"dataframe\">\n",
       "  <thead>\n",
       "    <tr style=\"text-align: right;\">\n",
       "      <th></th>\n",
       "      <th>0</th>\n",
       "      <th>1</th>\n",
       "      <th>2</th>\n",
       "      <th>3</th>\n",
       "      <th>4</th>\n",
       "      <th>5</th>\n",
       "      <th>6</th>\n",
       "      <th>7</th>\n",
       "      <th>8</th>\n",
       "      <th>9</th>\n",
       "      <th>10</th>\n",
       "      <th>11</th>\n",
       "      <th>12</th>\n",
       "      <th>13</th>\n",
       "      <th>14</th>\n",
       "      <th>15</th>\n",
       "      <th>16</th>\n",
       "      <th>17</th>\n",
       "      <th>18</th>\n",
       "      <th>19</th>\n",
       "    </tr>\n",
       "  </thead>\n",
       "  <tbody>\n",
       "    <tr>\n",
       "      <th>0</th>\n",
       "      <td>shrimp</td>\n",
       "      <td>almonds</td>\n",
       "      <td>avocado</td>\n",
       "      <td>vegetables mix</td>\n",
       "      <td>green grapes</td>\n",
       "      <td>whole weat flour</td>\n",
       "      <td>yams</td>\n",
       "      <td>cottage cheese</td>\n",
       "      <td>energy drink</td>\n",
       "      <td>tomato juice</td>\n",
       "      <td>low fat yogurt</td>\n",
       "      <td>green tea</td>\n",
       "      <td>honey</td>\n",
       "      <td>salad</td>\n",
       "      <td>mineral water</td>\n",
       "      <td>salmon</td>\n",
       "      <td>antioxydant juice</td>\n",
       "      <td>frozen smoothie</td>\n",
       "      <td>spinach</td>\n",
       "      <td>olive oil</td>\n",
       "    </tr>\n",
       "    <tr>\n",
       "      <th>1</th>\n",
       "      <td>burgers</td>\n",
       "      <td>meatballs</td>\n",
       "      <td>eggs</td>\n",
       "      <td>NaN</td>\n",
       "      <td>NaN</td>\n",
       "      <td>NaN</td>\n",
       "      <td>NaN</td>\n",
       "      <td>NaN</td>\n",
       "      <td>NaN</td>\n",
       "      <td>NaN</td>\n",
       "      <td>NaN</td>\n",
       "      <td>NaN</td>\n",
       "      <td>NaN</td>\n",
       "      <td>NaN</td>\n",
       "      <td>NaN</td>\n",
       "      <td>NaN</td>\n",
       "      <td>NaN</td>\n",
       "      <td>NaN</td>\n",
       "      <td>NaN</td>\n",
       "      <td>NaN</td>\n",
       "    </tr>\n",
       "    <tr>\n",
       "      <th>2</th>\n",
       "      <td>chutney</td>\n",
       "      <td>NaN</td>\n",
       "      <td>NaN</td>\n",
       "      <td>NaN</td>\n",
       "      <td>NaN</td>\n",
       "      <td>NaN</td>\n",
       "      <td>NaN</td>\n",
       "      <td>NaN</td>\n",
       "      <td>NaN</td>\n",
       "      <td>NaN</td>\n",
       "      <td>NaN</td>\n",
       "      <td>NaN</td>\n",
       "      <td>NaN</td>\n",
       "      <td>NaN</td>\n",
       "      <td>NaN</td>\n",
       "      <td>NaN</td>\n",
       "      <td>NaN</td>\n",
       "      <td>NaN</td>\n",
       "      <td>NaN</td>\n",
       "      <td>NaN</td>\n",
       "    </tr>\n",
       "    <tr>\n",
       "      <th>3</th>\n",
       "      <td>turkey</td>\n",
       "      <td>avocado</td>\n",
       "      <td>NaN</td>\n",
       "      <td>NaN</td>\n",
       "      <td>NaN</td>\n",
       "      <td>NaN</td>\n",
       "      <td>NaN</td>\n",
       "      <td>NaN</td>\n",
       "      <td>NaN</td>\n",
       "      <td>NaN</td>\n",
       "      <td>NaN</td>\n",
       "      <td>NaN</td>\n",
       "      <td>NaN</td>\n",
       "      <td>NaN</td>\n",
       "      <td>NaN</td>\n",
       "      <td>NaN</td>\n",
       "      <td>NaN</td>\n",
       "      <td>NaN</td>\n",
       "      <td>NaN</td>\n",
       "      <td>NaN</td>\n",
       "    </tr>\n",
       "    <tr>\n",
       "      <th>4</th>\n",
       "      <td>mineral water</td>\n",
       "      <td>milk</td>\n",
       "      <td>energy bar</td>\n",
       "      <td>whole wheat rice</td>\n",
       "      <td>green tea</td>\n",
       "      <td>NaN</td>\n",
       "      <td>NaN</td>\n",
       "      <td>NaN</td>\n",
       "      <td>NaN</td>\n",
       "      <td>NaN</td>\n",
       "      <td>NaN</td>\n",
       "      <td>NaN</td>\n",
       "      <td>NaN</td>\n",
       "      <td>NaN</td>\n",
       "      <td>NaN</td>\n",
       "      <td>NaN</td>\n",
       "      <td>NaN</td>\n",
       "      <td>NaN</td>\n",
       "      <td>NaN</td>\n",
       "      <td>NaN</td>\n",
       "    </tr>\n",
       "  </tbody>\n",
       "</table>\n",
       "</div>"
      ],
      "text/plain": [
       "              0          1           2                 3             4   \\\n",
       "0         shrimp    almonds     avocado    vegetables mix  green grapes   \n",
       "1        burgers  meatballs        eggs               NaN           NaN   \n",
       "2        chutney        NaN         NaN               NaN           NaN   \n",
       "3         turkey    avocado         NaN               NaN           NaN   \n",
       "4  mineral water       milk  energy bar  whole wheat rice     green tea   \n",
       "\n",
       "                 5     6               7             8             9   \\\n",
       "0  whole weat flour  yams  cottage cheese  energy drink  tomato juice   \n",
       "1               NaN   NaN             NaN           NaN           NaN   \n",
       "2               NaN   NaN             NaN           NaN           NaN   \n",
       "3               NaN   NaN             NaN           NaN           NaN   \n",
       "4               NaN   NaN             NaN           NaN           NaN   \n",
       "\n",
       "               10         11     12     13             14      15  \\\n",
       "0  low fat yogurt  green tea  honey  salad  mineral water  salmon   \n",
       "1             NaN        NaN    NaN    NaN            NaN     NaN   \n",
       "2             NaN        NaN    NaN    NaN            NaN     NaN   \n",
       "3             NaN        NaN    NaN    NaN            NaN     NaN   \n",
       "4             NaN        NaN    NaN    NaN            NaN     NaN   \n",
       "\n",
       "                  16               17       18         19  \n",
       "0  antioxydant juice  frozen smoothie  spinach  olive oil  \n",
       "1                NaN              NaN      NaN        NaN  \n",
       "2                NaN              NaN      NaN        NaN  \n",
       "3                NaN              NaN      NaN        NaN  \n",
       "4                NaN              NaN      NaN        NaN  "
      ]
     },
     "execution_count": 42,
     "metadata": {},
     "output_type": "execute_result"
    }
   ],
   "source": [
    "#Dalam dataset ini tidak ada baris header. Tetapi, function pd.read_csv memperlakukan baris pertama sebagai header. \n",
    "\n",
    "store_data = pd.read_csv('https://raw.githubusercontent.com/vanggelina10/Exercise_W9_DataMining/main/store_data.csv', header=None)\n",
    "store_data.head()"
   ]
  },
  {
   "cell_type": "code",
   "execution_count": 43,
   "id": "f40afac7",
   "metadata": {},
   "outputs": [],
   "source": [
    "#Data Prepocessing\n",
    "\n",
    "records = []\n",
    "for i in range(0, 7501):\n",
    "    records.append([str(store_data.values[i,j]) for j in range(0, 20)])"
   ]
  },
  {
   "cell_type": "code",
   "execution_count": 64,
   "id": "1277c5f8",
   "metadata": {},
   "outputs": [
    {
     "data": {
      "text/plain": [
       "[RelationRecord(items=frozenset({'light cream', 'chicken'}), support=0.004532728969470737, ordered_statistics=[OrderedStatistic(items_base=frozenset({'light cream'}), items_add=frozenset({'chicken'}), confidence=0.29059829059829057, lift=4.84395061728395)]),\n",
       " RelationRecord(items=frozenset({'mushroom cream sauce', 'escalope'}), support=0.005732568990801226, ordered_statistics=[OrderedStatistic(items_base=frozenset({'mushroom cream sauce'}), items_add=frozenset({'escalope'}), confidence=0.3006993006993007, lift=3.790832696715049)]),\n",
       " RelationRecord(items=frozenset({'pasta', 'escalope'}), support=0.005865884548726837, ordered_statistics=[OrderedStatistic(items_base=frozenset({'pasta'}), items_add=frozenset({'escalope'}), confidence=0.3728813559322034, lift=4.700811850163794)]),\n",
       " RelationRecord(items=frozenset({'herb & pepper', 'ground beef'}), support=0.015997866951073192, ordered_statistics=[OrderedStatistic(items_base=frozenset({'herb & pepper'}), items_add=frozenset({'ground beef'}), confidence=0.3234501347708895, lift=3.2919938411349285)]),\n",
       " RelationRecord(items=frozenset({'ground beef', 'tomato sauce'}), support=0.005332622317024397, ordered_statistics=[OrderedStatistic(items_base=frozenset({'tomato sauce'}), items_add=frozenset({'ground beef'}), confidence=0.3773584905660377, lift=3.840659481324083)]),\n",
       " RelationRecord(items=frozenset({'whole wheat pasta', 'olive oil'}), support=0.007998933475536596, ordered_statistics=[OrderedStatistic(items_base=frozenset({'whole wheat pasta'}), items_add=frozenset({'olive oil'}), confidence=0.2714932126696833, lift=4.122410097642296)]),\n",
       " RelationRecord(items=frozenset({'pasta', 'shrimp'}), support=0.005065991201173177, ordered_statistics=[OrderedStatistic(items_base=frozenset({'pasta'}), items_add=frozenset({'shrimp'}), confidence=0.3220338983050847, lift=4.506672147735896)]),\n",
       " RelationRecord(items=frozenset({'light cream', 'chicken', 'nan'}), support=0.004532728969470737, ordered_statistics=[OrderedStatistic(items_base=frozenset({'light cream'}), items_add=frozenset({'chicken', 'nan'}), confidence=0.29059829059829057, lift=4.84395061728395), OrderedStatistic(items_base=frozenset({'light cream', 'nan'}), items_add=frozenset({'chicken'}), confidence=0.29059829059829057, lift=4.84395061728395)]),\n",
       " RelationRecord(items=frozenset({'chocolate', 'frozen vegetables', 'shrimp'}), support=0.005332622317024397, ordered_statistics=[OrderedStatistic(items_base=frozenset({'chocolate', 'frozen vegetables'}), items_add=frozenset({'shrimp'}), confidence=0.23255813953488375, lift=3.2545123221103784), OrderedStatistic(items_base=frozenset({'chocolate', 'shrimp'}), items_add=frozenset({'frozen vegetables'}), confidence=0.29629629629629634, lift=3.1084175084175087)]),\n",
       " RelationRecord(items=frozenset({'spaghetti', 'cooking oil', 'ground beef'}), support=0.004799360085321957, ordered_statistics=[OrderedStatistic(items_base=frozenset({'cooking oil', 'ground beef'}), items_add=frozenset({'spaghetti'}), confidence=0.5714285714285714, lift=3.2819951870487856), OrderedStatistic(items_base=frozenset({'spaghetti', 'cooking oil'}), items_add=frozenset({'ground beef'}), confidence=0.3025210084033613, lift=3.0789824749438446)]),\n",
       " RelationRecord(items=frozenset({'nan', 'mushroom cream sauce', 'escalope'}), support=0.005732568990801226, ordered_statistics=[OrderedStatistic(items_base=frozenset({'mushroom cream sauce'}), items_add=frozenset({'nan', 'escalope'}), confidence=0.3006993006993007, lift=3.790832696715049), OrderedStatistic(items_base=frozenset({'nan', 'mushroom cream sauce'}), items_add=frozenset({'escalope'}), confidence=0.3006993006993007, lift=3.790832696715049)]),\n",
       " RelationRecord(items=frozenset({'pasta', 'nan', 'escalope'}), support=0.005865884548726837, ordered_statistics=[OrderedStatistic(items_base=frozenset({'pasta'}), items_add=frozenset({'nan', 'escalope'}), confidence=0.3728813559322034, lift=4.700811850163794), OrderedStatistic(items_base=frozenset({'pasta', 'nan'}), items_add=frozenset({'escalope'}), confidence=0.3728813559322034, lift=4.700811850163794)]),\n",
       " RelationRecord(items=frozenset({'spaghetti', 'ground beef', 'frozen vegetables'}), support=0.008665511265164644, ordered_statistics=[OrderedStatistic(items_base=frozenset({'spaghetti', 'frozen vegetables'}), items_add=frozenset({'ground beef'}), confidence=0.31100478468899523, lift=3.165328208890303)]),\n",
       " RelationRecord(items=frozenset({'milk', 'frozen vegetables', 'olive oil'}), support=0.004799360085321957, ordered_statistics=[OrderedStatistic(items_base=frozenset({'milk', 'frozen vegetables'}), items_add=frozenset({'olive oil'}), confidence=0.20338983050847456, lift=3.088314005352364), OrderedStatistic(items_base=frozenset({'frozen vegetables', 'olive oil'}), items_add=frozenset({'milk'}), confidence=0.4235294117647058, lift=3.2684095860566447)]),\n",
       " RelationRecord(items=frozenset({'mineral water', 'frozen vegetables', 'shrimp'}), support=0.007199040127982935, ordered_statistics=[OrderedStatistic(items_base=frozenset({'mineral water', 'shrimp'}), items_add=frozenset({'frozen vegetables'}), confidence=0.30508474576271183, lift=3.200616332819722)]),\n",
       " RelationRecord(items=frozenset({'spaghetti', 'frozen vegetables', 'olive oil'}), support=0.005732568990801226, ordered_statistics=[OrderedStatistic(items_base=frozenset({'spaghetti', 'frozen vegetables'}), items_add=frozenset({'olive oil'}), confidence=0.20574162679425836, lift=3.1240241752707125)]),\n",
       " RelationRecord(items=frozenset({'spaghetti', 'frozen vegetables', 'shrimp'}), support=0.005999200106652446, ordered_statistics=[OrderedStatistic(items_base=frozenset({'spaghetti', 'frozen vegetables'}), items_add=frozenset({'shrimp'}), confidence=0.21531100478468898, lift=3.0131489680782684)]),\n",
       " RelationRecord(items=frozenset({'spaghetti', 'tomatoes', 'frozen vegetables'}), support=0.006665777896280496, ordered_statistics=[OrderedStatistic(items_base=frozenset({'spaghetti', 'frozen vegetables'}), items_add=frozenset({'tomatoes'}), confidence=0.23923444976076558, lift=3.4980460188216425), OrderedStatistic(items_base=frozenset({'spaghetti', 'tomatoes'}), items_add=frozenset({'frozen vegetables'}), confidence=0.3184713375796179, lift=3.341053850607991)]),\n",
       " RelationRecord(items=frozenset({'spaghetti', 'ground beef', 'grated cheese'}), support=0.005332622317024397, ordered_statistics=[OrderedStatistic(items_base=frozenset({'spaghetti', 'grated cheese'}), items_add=frozenset({'ground beef'}), confidence=0.3225806451612903, lift=3.283144395325426)]),\n",
       " RelationRecord(items=frozenset({'mineral water', 'herb & pepper', 'ground beef'}), support=0.006665777896280496, ordered_statistics=[OrderedStatistic(items_base=frozenset({'mineral water', 'herb & pepper'}), items_add=frozenset({'ground beef'}), confidence=0.39062500000000006, lift=3.975682666214383)]),\n",
       " RelationRecord(items=frozenset({'herb & pepper', 'ground beef', 'nan'}), support=0.015997866951073192, ordered_statistics=[OrderedStatistic(items_base=frozenset({'herb & pepper'}), items_add=frozenset({'ground beef', 'nan'}), confidence=0.3234501347708895, lift=3.2919938411349285), OrderedStatistic(items_base=frozenset({'herb & pepper', 'nan'}), items_add=frozenset({'ground beef'}), confidence=0.3234501347708895, lift=3.2919938411349285)]),\n",
       " RelationRecord(items=frozenset({'spaghetti', 'herb & pepper', 'ground beef'}), support=0.006399146780429276, ordered_statistics=[OrderedStatistic(items_base=frozenset({'spaghetti', 'herb & pepper'}), items_add=frozenset({'ground beef'}), confidence=0.3934426229508197, lift=4.004359721511667)]),\n",
       " RelationRecord(items=frozenset({'milk', 'ground beef', 'olive oil'}), support=0.004932675643247567, ordered_statistics=[OrderedStatistic(items_base=frozenset({'milk', 'ground beef'}), items_add=frozenset({'olive oil'}), confidence=0.22424242424242427, lift=3.40494417862839)]),\n",
       " RelationRecord(items=frozenset({'ground beef', 'nan', 'tomato sauce'}), support=0.005332622317024397, ordered_statistics=[OrderedStatistic(items_base=frozenset({'tomato sauce'}), items_add=frozenset({'ground beef', 'nan'}), confidence=0.3773584905660377, lift=3.840659481324083), OrderedStatistic(items_base=frozenset({'nan', 'tomato sauce'}), items_add=frozenset({'ground beef'}), confidence=0.3773584905660377, lift=3.840659481324083)]),\n",
       " RelationRecord(items=frozenset({'spaghetti', 'ground beef', 'shrimp'}), support=0.005999200106652446, ordered_statistics=[OrderedStatistic(items_base=frozenset({'ground beef', 'shrimp'}), items_add=frozenset({'spaghetti'}), confidence=0.5232558139534884, lift=3.005315360233627)]),\n",
       " RelationRecord(items=frozenset({'spaghetti', 'milk', 'olive oil'}), support=0.007199040127982935, ordered_statistics=[OrderedStatistic(items_base=frozenset({'spaghetti', 'milk'}), items_add=frozenset({'olive oil'}), confidence=0.20300751879699247, lift=3.0825089038385434)]),\n",
       " RelationRecord(items=frozenset({'soup', 'mineral water', 'olive oil'}), support=0.005199306759098787, ordered_statistics=[OrderedStatistic(items_base=frozenset({'soup', 'mineral water'}), items_add=frozenset({'olive oil'}), confidence=0.22543352601156072, lift=3.4230301186492245)]),\n",
       " RelationRecord(items=frozenset({'nan', 'whole wheat pasta', 'olive oil'}), support=0.007998933475536596, ordered_statistics=[OrderedStatistic(items_base=frozenset({'whole wheat pasta'}), items_add=frozenset({'nan', 'olive oil'}), confidence=0.2714932126696833, lift=4.13077198425009), OrderedStatistic(items_base=frozenset({'nan', 'whole wheat pasta'}), items_add=frozenset({'olive oil'}), confidence=0.2714932126696833, lift=4.122410097642296)]),\n",
       " RelationRecord(items=frozenset({'pasta', 'nan', 'shrimp'}), support=0.005065991201173177, ordered_statistics=[OrderedStatistic(items_base=frozenset({'pasta'}), items_add=frozenset({'nan', 'shrimp'}), confidence=0.3220338983050847, lift=4.515095833993347), OrderedStatistic(items_base=frozenset({'pasta', 'nan'}), items_add=frozenset({'shrimp'}), confidence=0.3220338983050847, lift=4.506672147735896)]),\n",
       " RelationRecord(items=frozenset({'spaghetti', 'pancakes', 'olive oil'}), support=0.005065991201173177, ordered_statistics=[OrderedStatistic(items_base=frozenset({'spaghetti', 'pancakes'}), items_add=frozenset({'olive oil'}), confidence=0.20105820105820105, lift=3.0529100529100526)]),\n",
       " RelationRecord(items=frozenset({'chocolate', 'nan', 'frozen vegetables', 'shrimp'}), support=0.005332622317024397, ordered_statistics=[OrderedStatistic(items_base=frozenset({'chocolate', 'frozen vegetables'}), items_add=frozenset({'nan', 'shrimp'}), confidence=0.23255813953488375, lift=3.260595522712454), OrderedStatistic(items_base=frozenset({'chocolate', 'shrimp'}), items_add=frozenset({'frozen vegetables', 'nan'}), confidence=0.29629629629629634, lift=3.1084175084175087), OrderedStatistic(items_base=frozenset({'chocolate', 'nan', 'frozen vegetables'}), items_add=frozenset({'shrimp'}), confidence=0.23255813953488375, lift=3.2545123221103784), OrderedStatistic(items_base=frozenset({'chocolate', 'nan', 'shrimp'}), items_add=frozenset({'frozen vegetables'}), confidence=0.29629629629629634, lift=3.1084175084175087)]),\n",
       " RelationRecord(items=frozenset({'spaghetti', 'cooking oil', 'ground beef', 'nan'}), support=0.004799360085321957, ordered_statistics=[OrderedStatistic(items_base=frozenset({'cooking oil', 'ground beef'}), items_add=frozenset({'spaghetti', 'nan'}), confidence=0.5714285714285714, lift=3.2819951870487856), OrderedStatistic(items_base=frozenset({'spaghetti', 'cooking oil'}), items_add=frozenset({'ground beef', 'nan'}), confidence=0.3025210084033613, lift=3.0789824749438446), OrderedStatistic(items_base=frozenset({'cooking oil', 'ground beef', 'nan'}), items_add=frozenset({'spaghetti'}), confidence=0.5714285714285714, lift=3.2819951870487856), OrderedStatistic(items_base=frozenset({'spaghetti', 'cooking oil', 'nan'}), items_add=frozenset({'ground beef'}), confidence=0.3025210084033613, lift=3.0789824749438446)]),\n",
       " RelationRecord(items=frozenset({'spaghetti', 'nan', 'ground beef', 'frozen vegetables'}), support=0.008665511265164644, ordered_statistics=[OrderedStatistic(items_base=frozenset({'spaghetti', 'frozen vegetables'}), items_add=frozenset({'ground beef', 'nan'}), confidence=0.31100478468899523, lift=3.165328208890303), OrderedStatistic(items_base=frozenset({'spaghetti', 'nan', 'frozen vegetables'}), items_add=frozenset({'ground beef'}), confidence=0.31100478468899523, lift=3.165328208890303)]),\n",
       " RelationRecord(items=frozenset({'mineral water', 'spaghetti', 'milk', 'frozen vegetables'}), support=0.004532728969470737, ordered_statistics=[OrderedStatistic(items_base=frozenset({'mineral water', 'spaghetti', 'milk'}), items_add=frozenset({'frozen vegetables'}), confidence=0.28813559322033894, lift=3.0228043143297376)]),\n",
       " RelationRecord(items=frozenset({'nan', 'milk', 'frozen vegetables', 'olive oil'}), support=0.004799360085321957, ordered_statistics=[OrderedStatistic(items_base=frozenset({'milk', 'frozen vegetables'}), items_add=frozenset({'nan', 'olive oil'}), confidence=0.20338983050847456, lift=3.094578333963626), OrderedStatistic(items_base=frozenset({'frozen vegetables', 'olive oil'}), items_add=frozenset({'milk', 'nan'}), confidence=0.4235294117647058, lift=3.2684095860566447), OrderedStatistic(items_base=frozenset({'nan', 'milk', 'frozen vegetables'}), items_add=frozenset({'olive oil'}), confidence=0.20338983050847456, lift=3.088314005352364), OrderedStatistic(items_base=frozenset({'nan', 'frozen vegetables', 'olive oil'}), items_add=frozenset({'milk'}), confidence=0.4235294117647058, lift=3.2684095860566447)]),\n",
       " RelationRecord(items=frozenset({'mineral water', 'nan', 'frozen vegetables', 'shrimp'}), support=0.007199040127982935, ordered_statistics=[OrderedStatistic(items_base=frozenset({'mineral water', 'shrimp'}), items_add=frozenset({'frozen vegetables', 'nan'}), confidence=0.30508474576271183, lift=3.200616332819722), OrderedStatistic(items_base=frozenset({'mineral water', 'nan', 'shrimp'}), items_add=frozenset({'frozen vegetables'}), confidence=0.3068181818181818, lift=3.218801652892562)]),\n",
       " RelationRecord(items=frozenset({'spaghetti', 'nan', 'frozen vegetables', 'olive oil'}), support=0.005732568990801226, ordered_statistics=[OrderedStatistic(items_base=frozenset({'spaghetti', 'frozen vegetables'}), items_add=frozenset({'nan', 'olive oil'}), confidence=0.20574162679425836, lift=3.1303609383037156), OrderedStatistic(items_base=frozenset({'spaghetti', 'nan', 'frozen vegetables'}), items_add=frozenset({'olive oil'}), confidence=0.20574162679425836, lift=3.1240241752707125)]),\n",
       " RelationRecord(items=frozenset({'spaghetti', 'nan', 'frozen vegetables', 'shrimp'}), support=0.005999200106652446, ordered_statistics=[OrderedStatistic(items_base=frozenset({'spaghetti', 'frozen vegetables'}), items_add=frozenset({'nan', 'shrimp'}), confidence=0.21531100478468898, lift=3.0187810222242093), OrderedStatistic(items_base=frozenset({'spaghetti', 'nan', 'frozen vegetables'}), items_add=frozenset({'shrimp'}), confidence=0.21531100478468898, lift=3.0131489680782684)]),\n",
       " RelationRecord(items=frozenset({'spaghetti', 'nan', 'frozen vegetables', 'tomatoes'}), support=0.006665777896280496, ordered_statistics=[OrderedStatistic(items_base=frozenset({'spaghetti', 'frozen vegetables'}), items_add=frozenset({'tomatoes', 'nan'}), confidence=0.23923444976076558, lift=3.4980460188216425), OrderedStatistic(items_base=frozenset({'spaghetti', 'tomatoes'}), items_add=frozenset({'frozen vegetables', 'nan'}), confidence=0.3184713375796179, lift=3.341053850607991), OrderedStatistic(items_base=frozenset({'spaghetti', 'nan', 'frozen vegetables'}), items_add=frozenset({'tomatoes'}), confidence=0.23923444976076558, lift=3.4980460188216425), OrderedStatistic(items_base=frozenset({'spaghetti', 'tomatoes', 'nan'}), items_add=frozenset({'frozen vegetables'}), confidence=0.3184713375796179, lift=3.341053850607991)]),\n",
       " RelationRecord(items=frozenset({'spaghetti', 'ground beef', 'nan', 'grated cheese'}), support=0.005332622317024397, ordered_statistics=[OrderedStatistic(items_base=frozenset({'spaghetti', 'grated cheese'}), items_add=frozenset({'ground beef', 'nan'}), confidence=0.3225806451612903, lift=3.283144395325426), OrderedStatistic(items_base=frozenset({'spaghetti', 'nan', 'grated cheese'}), items_add=frozenset({'ground beef'}), confidence=0.3225806451612903, lift=3.283144395325426)]),\n",
       " RelationRecord(items=frozenset({'mineral water', 'herb & pepper', 'ground beef', 'nan'}), support=0.006665777896280496, ordered_statistics=[OrderedStatistic(items_base=frozenset({'mineral water', 'herb & pepper'}), items_add=frozenset({'ground beef', 'nan'}), confidence=0.39062500000000006, lift=3.975682666214383), OrderedStatistic(items_base=frozenset({'mineral water', 'herb & pepper', 'nan'}), items_add=frozenset({'ground beef'}), confidence=0.39062500000000006, lift=3.975682666214383)]),\n",
       " RelationRecord(items=frozenset({'spaghetti', 'herb & pepper', 'ground beef', 'nan'}), support=0.006399146780429276, ordered_statistics=[OrderedStatistic(items_base=frozenset({'spaghetti', 'herb & pepper'}), items_add=frozenset({'ground beef', 'nan'}), confidence=0.3934426229508197, lift=4.004359721511667), OrderedStatistic(items_base=frozenset({'spaghetti', 'herb & pepper', 'nan'}), items_add=frozenset({'ground beef'}), confidence=0.3934426229508197, lift=4.004359721511667)]),\n",
       " RelationRecord(items=frozenset({'milk', 'ground beef', 'nan', 'olive oil'}), support=0.004932675643247567, ordered_statistics=[OrderedStatistic(items_base=frozenset({'milk', 'ground beef'}), items_add=frozenset({'nan', 'olive oil'}), confidence=0.22424242424242427, lift=3.4118507591124225), OrderedStatistic(items_base=frozenset({'milk', 'ground beef', 'nan'}), items_add=frozenset({'olive oil'}), confidence=0.22424242424242427, lift=3.40494417862839)]),\n",
       " RelationRecord(items=frozenset({'spaghetti', 'ground beef', 'nan', 'shrimp'}), support=0.005999200106652446, ordered_statistics=[OrderedStatistic(items_base=frozenset({'ground beef', 'shrimp'}), items_add=frozenset({'spaghetti', 'nan'}), confidence=0.5232558139534884, lift=3.005315360233627), OrderedStatistic(items_base=frozenset({'ground beef', 'nan', 'shrimp'}), items_add=frozenset({'spaghetti'}), confidence=0.5232558139534884, lift=3.005315360233627)]),\n",
       " RelationRecord(items=frozenset({'spaghetti', 'milk', 'nan', 'olive oil'}), support=0.007199040127982935, ordered_statistics=[OrderedStatistic(items_base=frozenset({'spaghetti', 'milk'}), items_add=frozenset({'nan', 'olive oil'}), confidence=0.20300751879699247, lift=3.088761457396025), OrderedStatistic(items_base=frozenset({'spaghetti', 'milk', 'nan'}), items_add=frozenset({'olive oil'}), confidence=0.20300751879699247, lift=3.0825089038385434)]),\n",
       " RelationRecord(items=frozenset({'soup', 'mineral water', 'nan', 'olive oil'}), support=0.005199306759098787, ordered_statistics=[OrderedStatistic(items_base=frozenset({'soup', 'mineral water'}), items_add=frozenset({'nan', 'olive oil'}), confidence=0.22543352601156072, lift=3.429973384609973), OrderedStatistic(items_base=frozenset({'soup', 'mineral water', 'nan'}), items_add=frozenset({'olive oil'}), confidence=0.22543352601156072, lift=3.4230301186492245)]),\n",
       " RelationRecord(items=frozenset({'spaghetti', 'pancakes', 'nan', 'olive oil'}), support=0.005065991201173177, ordered_statistics=[OrderedStatistic(items_base=frozenset({'spaghetti', 'pancakes'}), items_add=frozenset({'nan', 'olive oil'}), confidence=0.20105820105820105, lift=3.0591025682303568), OrderedStatistic(items_base=frozenset({'spaghetti', 'pancakes', 'nan'}), items_add=frozenset({'olive oil'}), confidence=0.20105820105820105, lift=3.0529100529100526)]),\n",
       " RelationRecord(items=frozenset({'mineral water', 'spaghetti', 'frozen vegetables', 'milk', 'nan'}), support=0.004532728969470737, ordered_statistics=[OrderedStatistic(items_base=frozenset({'mineral water', 'spaghetti', 'milk'}), items_add=frozenset({'nan', 'frozen vegetables'}), confidence=0.28813559322033894, lift=3.0228043143297376), OrderedStatistic(items_base=frozenset({'mineral water', 'spaghetti', 'milk', 'nan'}), items_add=frozenset({'frozen vegetables'}), confidence=0.28813559322033894, lift=3.0228043143297376)])]"
      ]
     },
     "execution_count": 64,
     "metadata": {},
     "output_type": "execute_result"
    }
   ],
   "source": [
    "#Applying Apriori\n",
    "\n",
    "association_rules = apriori(records, min_support=0.0045, min_confidence=0.2, min_lift=3, min_length=2)\n",
    "association_results = list(association_rules)\n",
    "\n",
    "association_results"
   ]
  },
  {
   "cell_type": "markdown",
   "id": "c1941b70",
   "metadata": {},
   "source": [
    "# Referensi"
   ]
  },
  {
   "cell_type": "markdown",
   "id": "84162b6c",
   "metadata": {},
   "source": [
    "Fauzy M, Saleh K, Asror I. (2015). Penerapan Metode Association Rule Menggunakan Algoritma Apriori pada Simulasi Prediksi Hujan Wilayah Kota Bandung. Core. https://core.ac.uk/download/pdf/299905763.pdf"
   ]
  },
  {
   "cell_type": "markdown",
   "id": "715144b5",
   "metadata": {},
   "source": [
    "Tumini, & Lestanto, E. (2017). Aplikasi Data Mining Menggunakan Metode Association Rule Dan Algoritma Apriori Berbasis Web Pada Perpustakaan Di SMA Negeri 1 Bungursari. Jurnal Informatika SIMANTIK. https://www.simantik.panca-sakti.ac.id/index.php/simantik/article/view/34"
   ]
  },
  {
   "cell_type": "markdown",
   "id": "7660737a",
   "metadata": {},
   "source": [
    "Aprianti W, Hafizd K, Rizani M. (2017). Implementasi Association Rules dengan Algoritma Apriori pada Dataset Kemiskinan. Media Neliti. https://media.neliti.com/media/publications/280117-implementasi-association-rules-dengan-al-42e5f699.pdf"
   ]
  },
  {
   "cell_type": "markdown",
   "id": "e34dd322",
   "metadata": {},
   "source": [
    "Rai A. (2022). An Overview of Association Rule Mining & its Application. Upgrad. https://www.upgrad.com/blog/association-rule-mining-an-overview-and-its-applications/"
   ]
  },
  {
   "cell_type": "markdown",
   "id": "d96dbe9d",
   "metadata": {},
   "source": [
    "Remanan S. (2018). Association Rule Mining. Medium. https://towardsdatascience.com/association-rule-mining-be4122fc1793"
   ]
  },
  {
   "cell_type": "markdown",
   "id": "c7140233",
   "metadata": {},
   "source": [
    "Kenali Data Science Algoritma Apriori pada Machine Learning. (2022). Dqlab. https://dqlab.id/kenali-data-science-algoritma-apriori-pada-machine-learning"
   ]
  },
  {
   "cell_type": "markdown",
   "id": "f0325815",
   "metadata": {},
   "source": [
    "Association Rules. (2022). Ilmu Skripsi. https://www.ilmuskripsi.com/2016/06/association-rules.html"
   ]
  },
  {
   "cell_type": "markdown",
   "id": "77ed9f3d",
   "metadata": {},
   "source": [
    "Jena M. (2022). Association Rule Mining Simplified 101. Hevodata. https://hevodata.com/learn/association-rule-mining/"
   ]
  },
  {
   "cell_type": "markdown",
   "id": "ed8fe71a",
   "metadata": {},
   "source": [
    "Types of Association Rules in Data Mining. (2022). Geeks for geeks. https://www.geeksforgeeks.org/types-of-association-rules-in-data-mining/"
   ]
  },
  {
   "cell_type": "markdown",
   "id": "9fdec18e",
   "metadata": {},
   "source": [
    "Malik U. (2022). Association Rule Mining via Apriori Algorithm in Python. Stack Abuse. https://stackabuse.com/association-rule-mining-via-apriori-algorithm-in-python/"
   ]
  }
 ],
 "metadata": {
  "kernelspec": {
   "display_name": "Python 3",
   "language": "python",
   "name": "python3"
  },
  "language_info": {
   "codemirror_mode": {
    "name": "ipython",
    "version": 3
   },
   "file_extension": ".py",
   "mimetype": "text/x-python",
   "name": "python",
   "nbconvert_exporter": "python",
   "pygments_lexer": "ipython3",
   "version": "3.8.8"
  }
 },
 "nbformat": 4,
 "nbformat_minor": 5
}
