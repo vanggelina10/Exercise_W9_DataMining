{
 "cells": [
  {
   "cell_type": "code",
   "execution_count": null,
   "id": "8eb65652",
   "metadata": {},
   "outputs": [],
   "source": [
    "#Arti Association Rule Mining\n",
    "Association rule mining adalah salah satu metode data mining yang dapat mengidentifikasi hubungan kesamaan antar item. \n",
    "Dalam metode ini dibutuhkan algoritma untuk mencari kandidat aturan asosiasi. Salah satu algoritma yang biasa dipakai adalah \n",
    "algoritma apriori. Metode ini dimulai dengan mencari sejumlah frequent itemset dan dilanjutkan dengan pembentukan aturan-aturan \n",
    "asosiasi (association rules)."
   ]
  },
  {
   "cell_type": "code",
   "execution_count": null,
   "id": "ea6c5708",
   "metadata": {},
   "outputs": [],
   "source": [
    "#algoritma \n",
    "Algoritma adalah urutan atau langkah-langkah yang logis dan sistematis untuk memecahkan dan menyelesaikan suatu masalah. \n"
   ]
  },
  {
   "cell_type": "code",
   "execution_count": null,
   "id": "3b20164c",
   "metadata": {},
   "outputs": [],
   "source": [
    "#contoh penggunaan algoritma apriori\n",
    "Algoritma Apriori dapat digunakan untuk menemukan tren bisnis dengan menganalisa transaksi konsumen. \n",
    "Contoh: 30% dari transaksi yang memuat bir juga memuat popok 5% yang artinya 30% merupakan confidence dan 5% merupakan support \n",
    "dari kaidah ini."
   ]
  },
  {
   "cell_type": "code",
   "execution_count": null,
   "id": "620d9139",
   "metadata": {},
   "outputs": [],
   "source": []
  },
  {
   "cell_type": "code",
   "execution_count": null,
   "id": "ac063663",
   "metadata": {},
   "outputs": [],
   "source": [
    "#Referensi\n",
    "\n",
    "https://core.ac.uk/download/pdf/299905763.pdf\n",
    "https://www.simantik.panca-sakti.ac.id/index.php/simantik/article/view/34\n",
    "https://www.codekop.com/read/penerapan-algoritma-apriori-contoh-dan-implementasi-menggunakan-python-68.html\n",
    "https://www.ilmuskripsi.com/2016/06/association-rules.html"
   ]
  }
 ],
 "metadata": {
  "kernelspec": {
   "display_name": "Python 3",
   "language": "python",
   "name": "python3"
  },
  "language_info": {
   "codemirror_mode": {
    "name": "ipython",
    "version": 3
   },
   "file_extension": ".py",
   "mimetype": "text/x-python",
   "name": "python",
   "nbconvert_exporter": "python",
   "pygments_lexer": "ipython3",
   "version": "3.8.8"
  }
 },
 "nbformat": 4,
 "nbformat_minor": 5
}
