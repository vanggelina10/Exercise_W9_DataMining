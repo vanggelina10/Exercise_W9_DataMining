{
 "cells": [
  {
   "cell_type": "markdown",
   "id": "306f8488",
   "metadata": {},
   "source": [
    "# Arti Association Rule Mining"
   ]
  },
  {
   "cell_type": "markdown",
   "id": "63227066",
   "metadata": {},
   "source": [
    "Association rule mining adalah salah satu metode data mining yang dapat mengidentifikasi hubungan kesamaan antar item. \n",
    "Dalam metode ini dibutuhkan algoritma untuk mencari kandidat aturan asosiasi. Salah satu algoritma yang biasa dipakai adalah \n",
    "algoritma apriori. Metode ini dimulai dengan mencari sejumlah frequent itemset dan dilanjutkan dengan pembentukan aturan-aturan \n",
    "asosiasi (association rules).\n",
    "\n",
    "Association rules adalah mengetahui seberapa sering kombinasi item muncul dalam database, yang disebut sebagai frequent patterns."
   ]
  },
  {
   "cell_type": "markdown",
   "id": "1e7fce3c",
   "metadata": {},
   "source": [
    "# Algoritma "
   ]
  },
  {
   "cell_type": "markdown",
   "id": "53980457",
   "metadata": {},
   "source": [
    "Algoritma adalah urutan atau langkah-langkah yang logis dan sistematis untuk memecahkan dan menyelesaikan suatu masalah.\n",
    "Algoritma Apriori adalah salah satu algoritma pada data mining untuk mencari frequent item/itemset pada transaksional database.\n",
    "\n",
    "Algoritma apriori banyak digunakan pada data transaksi atau biasa disebut market basket, misalnya sebuah swalayan memiliki \n",
    "market basket, dengan adanya algoritma apriori, pemilik swalayan dapat mengetahui pola pembelian seorang konsumen. "
   ]
  },
  {
   "cell_type": "markdown",
   "id": "9d613228",
   "metadata": {},
   "source": [
    "# Tipe Association Rule"
   ]
  },
  {
   "cell_type": "markdown",
   "id": "efd2ec76",
   "metadata": {},
   "source": [
    "*1. Multi-relational association rule*"
   ]
  },
  {
   "cell_type": "markdown",
   "id": "9baeb6d3",
   "metadata": {},
   "source": [
    "Kelas baru aturan asosiasi, berbeda dari aturan asosiasi asli, sederhana, dan bahkan multi-relasional (biasanya diekstraksi \n",
    "dari database multi-relasional), setiap elemen aturan terdiri dari satu entitas tetapi banyak hubungan."
   ]
  },
  {
   "cell_type": "markdown",
   "id": "088cc317",
   "metadata": {},
   "source": [
    "*2. Generalized association rule*"
   ]
  },
  {
   "cell_type": "markdown",
   "id": "aca0bb18",
   "metadata": {},
   "source": [
    "Alat yang ampuh untuk mendapatkan gambaran kasar tentang pola menarik yang tersembunyi dalam data."
   ]
  },
  {
   "cell_type": "markdown",
   "id": "d8776d42",
   "metadata": {},
   "source": [
    "*3. Quantitative association rule*"
   ]
  },
  {
   "cell_type": "markdown",
   "id": "c6dfba74",
   "metadata": {},
   "source": [
    "Jenis aturan asosiasi khusus. Tidak seperti aturan asosiasi umum, di mana sisi kiri dan kanan aturan harus berupa atribut \n",
    "kategori (nominal atau diskrit), setidaknya satu atribut (kiri atau kanan) aturan asosiasi kuantitatif harus berisi atribut \n",
    "numerik."
   ]
  },
  {
   "cell_type": "markdown",
   "id": "e8e5fccc",
   "metadata": {},
   "source": [
    "*4. Interval information association rule*"
   ]
  },
  {
   "cell_type": "markdown",
   "id": "bcccbf5b",
   "metadata": {},
   "source": [
    "# Bagian dari Association Rule"
   ]
  },
  {
   "cell_type": "markdown",
   "id": "a4dcddab",
   "metadata": {},
   "source": [
    "* An antecedent = if\n",
    "* A consequent = then"
   ]
  },
  {
   "cell_type": "markdown",
   "id": "6579f24e",
   "metadata": {},
   "source": [
    "# Penggunaan Association Rule Mining"
   ]
  },
  {
   "cell_type": "markdown",
   "id": "adb0bdd6",
   "metadata": {},
   "source": [
    "* Association Rule Mining: Basic Definitions\n",
    "* Association Rule Mining: Rule Evaluation Metrics"
   ]
  },
  {
   "cell_type": "markdown",
   "id": "60b1ae48",
   "metadata": {},
   "source": [
    "# Teori dari Algoritma Apriori"
   ]
  },
  {
   "cell_type": "markdown",
   "id": "15ea3bdc",
   "metadata": {},
   "source": [
    "1. Support\n",
    "2. Confidence\n",
    "3. Lift"
   ]
  },
  {
   "cell_type": "markdown",
   "id": "fb242064",
   "metadata": {},
   "source": [
    "# Implementasi Algoritma Apriori"
   ]
  },
  {
   "cell_type": "code",
   "execution_count": 39,
   "id": "6d539416",
   "metadata": {},
   "outputs": [],
   "source": [
    "#Import Library\n",
    "\n",
    "import numpy as np\n",
    "import matplotlib.pyplot as plt\n",
    "import pandas as pd\n",
    "from apyori import apriori"
   ]
  },
  {
   "cell_type": "code",
   "execution_count": 40,
   "id": "11e8b787",
   "metadata": {},
   "outputs": [
    {
     "name": "stdout",
     "output_type": "stream",
     "text": [
      "Requirement already satisfied: apyori in c:\\users\\win10\\anaconda3\\lib\\site-packages (1.1.2)\n",
      "Note: you may need to restart the kernel to use updated packages.\n"
     ]
    }
   ],
   "source": [
    "pip install apyori"
   ]
  },
  {
   "cell_type": "code",
   "execution_count": 41,
   "id": "dea6a015",
   "metadata": {},
   "outputs": [
    {
     "data": {
      "text/html": [
       "<div>\n",
       "<style scoped>\n",
       "    .dataframe tbody tr th:only-of-type {\n",
       "        vertical-align: middle;\n",
       "    }\n",
       "\n",
       "    .dataframe tbody tr th {\n",
       "        vertical-align: top;\n",
       "    }\n",
       "\n",
       "    .dataframe thead th {\n",
       "        text-align: right;\n",
       "    }\n",
       "</style>\n",
       "<table border=\"1\" class=\"dataframe\">\n",
       "  <thead>\n",
       "    <tr style=\"text-align: right;\">\n",
       "      <th></th>\n",
       "      <th>shrimp</th>\n",
       "      <th>almonds</th>\n",
       "      <th>avocado</th>\n",
       "      <th>vegetables mix</th>\n",
       "      <th>green grapes</th>\n",
       "      <th>whole weat flour</th>\n",
       "      <th>yams</th>\n",
       "      <th>cottage cheese</th>\n",
       "      <th>energy drink</th>\n",
       "      <th>tomato juice</th>\n",
       "      <th>low fat yogurt</th>\n",
       "      <th>green tea</th>\n",
       "      <th>honey</th>\n",
       "      <th>salad</th>\n",
       "      <th>mineral water</th>\n",
       "      <th>salmon</th>\n",
       "      <th>antioxydant juice</th>\n",
       "      <th>frozen smoothie</th>\n",
       "      <th>spinach</th>\n",
       "      <th>olive oil</th>\n",
       "    </tr>\n",
       "  </thead>\n",
       "  <tbody>\n",
       "    <tr>\n",
       "      <th>0</th>\n",
       "      <td>burgers</td>\n",
       "      <td>meatballs</td>\n",
       "      <td>eggs</td>\n",
       "      <td>NaN</td>\n",
       "      <td>NaN</td>\n",
       "      <td>NaN</td>\n",
       "      <td>NaN</td>\n",
       "      <td>NaN</td>\n",
       "      <td>NaN</td>\n",
       "      <td>NaN</td>\n",
       "      <td>NaN</td>\n",
       "      <td>NaN</td>\n",
       "      <td>NaN</td>\n",
       "      <td>NaN</td>\n",
       "      <td>NaN</td>\n",
       "      <td>NaN</td>\n",
       "      <td>NaN</td>\n",
       "      <td>NaN</td>\n",
       "      <td>NaN</td>\n",
       "      <td>NaN</td>\n",
       "    </tr>\n",
       "    <tr>\n",
       "      <th>1</th>\n",
       "      <td>chutney</td>\n",
       "      <td>NaN</td>\n",
       "      <td>NaN</td>\n",
       "      <td>NaN</td>\n",
       "      <td>NaN</td>\n",
       "      <td>NaN</td>\n",
       "      <td>NaN</td>\n",
       "      <td>NaN</td>\n",
       "      <td>NaN</td>\n",
       "      <td>NaN</td>\n",
       "      <td>NaN</td>\n",
       "      <td>NaN</td>\n",
       "      <td>NaN</td>\n",
       "      <td>NaN</td>\n",
       "      <td>NaN</td>\n",
       "      <td>NaN</td>\n",
       "      <td>NaN</td>\n",
       "      <td>NaN</td>\n",
       "      <td>NaN</td>\n",
       "      <td>NaN</td>\n",
       "    </tr>\n",
       "    <tr>\n",
       "      <th>2</th>\n",
       "      <td>turkey</td>\n",
       "      <td>avocado</td>\n",
       "      <td>NaN</td>\n",
       "      <td>NaN</td>\n",
       "      <td>NaN</td>\n",
       "      <td>NaN</td>\n",
       "      <td>NaN</td>\n",
       "      <td>NaN</td>\n",
       "      <td>NaN</td>\n",
       "      <td>NaN</td>\n",
       "      <td>NaN</td>\n",
       "      <td>NaN</td>\n",
       "      <td>NaN</td>\n",
       "      <td>NaN</td>\n",
       "      <td>NaN</td>\n",
       "      <td>NaN</td>\n",
       "      <td>NaN</td>\n",
       "      <td>NaN</td>\n",
       "      <td>NaN</td>\n",
       "      <td>NaN</td>\n",
       "    </tr>\n",
       "    <tr>\n",
       "      <th>3</th>\n",
       "      <td>mineral water</td>\n",
       "      <td>milk</td>\n",
       "      <td>energy bar</td>\n",
       "      <td>whole wheat rice</td>\n",
       "      <td>green tea</td>\n",
       "      <td>NaN</td>\n",
       "      <td>NaN</td>\n",
       "      <td>NaN</td>\n",
       "      <td>NaN</td>\n",
       "      <td>NaN</td>\n",
       "      <td>NaN</td>\n",
       "      <td>NaN</td>\n",
       "      <td>NaN</td>\n",
       "      <td>NaN</td>\n",
       "      <td>NaN</td>\n",
       "      <td>NaN</td>\n",
       "      <td>NaN</td>\n",
       "      <td>NaN</td>\n",
       "      <td>NaN</td>\n",
       "      <td>NaN</td>\n",
       "    </tr>\n",
       "    <tr>\n",
       "      <th>4</th>\n",
       "      <td>low fat yogurt</td>\n",
       "      <td>NaN</td>\n",
       "      <td>NaN</td>\n",
       "      <td>NaN</td>\n",
       "      <td>NaN</td>\n",
       "      <td>NaN</td>\n",
       "      <td>NaN</td>\n",
       "      <td>NaN</td>\n",
       "      <td>NaN</td>\n",
       "      <td>NaN</td>\n",
       "      <td>NaN</td>\n",
       "      <td>NaN</td>\n",
       "      <td>NaN</td>\n",
       "      <td>NaN</td>\n",
       "      <td>NaN</td>\n",
       "      <td>NaN</td>\n",
       "      <td>NaN</td>\n",
       "      <td>NaN</td>\n",
       "      <td>NaN</td>\n",
       "      <td>NaN</td>\n",
       "    </tr>\n",
       "  </tbody>\n",
       "</table>\n",
       "</div>"
      ],
      "text/plain": [
       "           shrimp    almonds     avocado    vegetables mix green grapes  \\\n",
       "0         burgers  meatballs        eggs               NaN          NaN   \n",
       "1         chutney        NaN         NaN               NaN          NaN   \n",
       "2          turkey    avocado         NaN               NaN          NaN   \n",
       "3   mineral water       milk  energy bar  whole wheat rice    green tea   \n",
       "4  low fat yogurt        NaN         NaN               NaN          NaN   \n",
       "\n",
       "  whole weat flour yams cottage cheese energy drink tomato juice  \\\n",
       "0              NaN  NaN            NaN          NaN          NaN   \n",
       "1              NaN  NaN            NaN          NaN          NaN   \n",
       "2              NaN  NaN            NaN          NaN          NaN   \n",
       "3              NaN  NaN            NaN          NaN          NaN   \n",
       "4              NaN  NaN            NaN          NaN          NaN   \n",
       "\n",
       "  low fat yogurt green tea honey salad mineral water salmon antioxydant juice  \\\n",
       "0            NaN       NaN   NaN   NaN           NaN    NaN               NaN   \n",
       "1            NaN       NaN   NaN   NaN           NaN    NaN               NaN   \n",
       "2            NaN       NaN   NaN   NaN           NaN    NaN               NaN   \n",
       "3            NaN       NaN   NaN   NaN           NaN    NaN               NaN   \n",
       "4            NaN       NaN   NaN   NaN           NaN    NaN               NaN   \n",
       "\n",
       "  frozen smoothie spinach  olive oil  \n",
       "0             NaN     NaN        NaN  \n",
       "1             NaN     NaN        NaN  \n",
       "2             NaN     NaN        NaN  \n",
       "3             NaN     NaN        NaN  \n",
       "4             NaN     NaN        NaN  "
      ]
     },
     "execution_count": 41,
     "metadata": {},
     "output_type": "execute_result"
    }
   ],
   "source": [
    "#Import dataset\n",
    "\n",
    "store_data = pd.read_csv('https://raw.githubusercontent.com/vanggelina10/Exercise_W9_DataMining/main/store_data.csv')\n",
    "store_data.head()"
   ]
  },
  {
   "cell_type": "code",
   "execution_count": 42,
   "id": "83c969df",
   "metadata": {},
   "outputs": [
    {
     "data": {
      "text/html": [
       "<div>\n",
       "<style scoped>\n",
       "    .dataframe tbody tr th:only-of-type {\n",
       "        vertical-align: middle;\n",
       "    }\n",
       "\n",
       "    .dataframe tbody tr th {\n",
       "        vertical-align: top;\n",
       "    }\n",
       "\n",
       "    .dataframe thead th {\n",
       "        text-align: right;\n",
       "    }\n",
       "</style>\n",
       "<table border=\"1\" class=\"dataframe\">\n",
       "  <thead>\n",
       "    <tr style=\"text-align: right;\">\n",
       "      <th></th>\n",
       "      <th>0</th>\n",
       "      <th>1</th>\n",
       "      <th>2</th>\n",
       "      <th>3</th>\n",
       "      <th>4</th>\n",
       "      <th>5</th>\n",
       "      <th>6</th>\n",
       "      <th>7</th>\n",
       "      <th>8</th>\n",
       "      <th>9</th>\n",
       "      <th>10</th>\n",
       "      <th>11</th>\n",
       "      <th>12</th>\n",
       "      <th>13</th>\n",
       "      <th>14</th>\n",
       "      <th>15</th>\n",
       "      <th>16</th>\n",
       "      <th>17</th>\n",
       "      <th>18</th>\n",
       "      <th>19</th>\n",
       "    </tr>\n",
       "  </thead>\n",
       "  <tbody>\n",
       "    <tr>\n",
       "      <th>0</th>\n",
       "      <td>shrimp</td>\n",
       "      <td>almonds</td>\n",
       "      <td>avocado</td>\n",
       "      <td>vegetables mix</td>\n",
       "      <td>green grapes</td>\n",
       "      <td>whole weat flour</td>\n",
       "      <td>yams</td>\n",
       "      <td>cottage cheese</td>\n",
       "      <td>energy drink</td>\n",
       "      <td>tomato juice</td>\n",
       "      <td>low fat yogurt</td>\n",
       "      <td>green tea</td>\n",
       "      <td>honey</td>\n",
       "      <td>salad</td>\n",
       "      <td>mineral water</td>\n",
       "      <td>salmon</td>\n",
       "      <td>antioxydant juice</td>\n",
       "      <td>frozen smoothie</td>\n",
       "      <td>spinach</td>\n",
       "      <td>olive oil</td>\n",
       "    </tr>\n",
       "    <tr>\n",
       "      <th>1</th>\n",
       "      <td>burgers</td>\n",
       "      <td>meatballs</td>\n",
       "      <td>eggs</td>\n",
       "      <td>NaN</td>\n",
       "      <td>NaN</td>\n",
       "      <td>NaN</td>\n",
       "      <td>NaN</td>\n",
       "      <td>NaN</td>\n",
       "      <td>NaN</td>\n",
       "      <td>NaN</td>\n",
       "      <td>NaN</td>\n",
       "      <td>NaN</td>\n",
       "      <td>NaN</td>\n",
       "      <td>NaN</td>\n",
       "      <td>NaN</td>\n",
       "      <td>NaN</td>\n",
       "      <td>NaN</td>\n",
       "      <td>NaN</td>\n",
       "      <td>NaN</td>\n",
       "      <td>NaN</td>\n",
       "    </tr>\n",
       "    <tr>\n",
       "      <th>2</th>\n",
       "      <td>chutney</td>\n",
       "      <td>NaN</td>\n",
       "      <td>NaN</td>\n",
       "      <td>NaN</td>\n",
       "      <td>NaN</td>\n",
       "      <td>NaN</td>\n",
       "      <td>NaN</td>\n",
       "      <td>NaN</td>\n",
       "      <td>NaN</td>\n",
       "      <td>NaN</td>\n",
       "      <td>NaN</td>\n",
       "      <td>NaN</td>\n",
       "      <td>NaN</td>\n",
       "      <td>NaN</td>\n",
       "      <td>NaN</td>\n",
       "      <td>NaN</td>\n",
       "      <td>NaN</td>\n",
       "      <td>NaN</td>\n",
       "      <td>NaN</td>\n",
       "      <td>NaN</td>\n",
       "    </tr>\n",
       "    <tr>\n",
       "      <th>3</th>\n",
       "      <td>turkey</td>\n",
       "      <td>avocado</td>\n",
       "      <td>NaN</td>\n",
       "      <td>NaN</td>\n",
       "      <td>NaN</td>\n",
       "      <td>NaN</td>\n",
       "      <td>NaN</td>\n",
       "      <td>NaN</td>\n",
       "      <td>NaN</td>\n",
       "      <td>NaN</td>\n",
       "      <td>NaN</td>\n",
       "      <td>NaN</td>\n",
       "      <td>NaN</td>\n",
       "      <td>NaN</td>\n",
       "      <td>NaN</td>\n",
       "      <td>NaN</td>\n",
       "      <td>NaN</td>\n",
       "      <td>NaN</td>\n",
       "      <td>NaN</td>\n",
       "      <td>NaN</td>\n",
       "    </tr>\n",
       "    <tr>\n",
       "      <th>4</th>\n",
       "      <td>mineral water</td>\n",
       "      <td>milk</td>\n",
       "      <td>energy bar</td>\n",
       "      <td>whole wheat rice</td>\n",
       "      <td>green tea</td>\n",
       "      <td>NaN</td>\n",
       "      <td>NaN</td>\n",
       "      <td>NaN</td>\n",
       "      <td>NaN</td>\n",
       "      <td>NaN</td>\n",
       "      <td>NaN</td>\n",
       "      <td>NaN</td>\n",
       "      <td>NaN</td>\n",
       "      <td>NaN</td>\n",
       "      <td>NaN</td>\n",
       "      <td>NaN</td>\n",
       "      <td>NaN</td>\n",
       "      <td>NaN</td>\n",
       "      <td>NaN</td>\n",
       "      <td>NaN</td>\n",
       "    </tr>\n",
       "  </tbody>\n",
       "</table>\n",
       "</div>"
      ],
      "text/plain": [
       "              0          1           2                 3             4   \\\n",
       "0         shrimp    almonds     avocado    vegetables mix  green grapes   \n",
       "1        burgers  meatballs        eggs               NaN           NaN   \n",
       "2        chutney        NaN         NaN               NaN           NaN   \n",
       "3         turkey    avocado         NaN               NaN           NaN   \n",
       "4  mineral water       milk  energy bar  whole wheat rice     green tea   \n",
       "\n",
       "                 5     6               7             8             9   \\\n",
       "0  whole weat flour  yams  cottage cheese  energy drink  tomato juice   \n",
       "1               NaN   NaN             NaN           NaN           NaN   \n",
       "2               NaN   NaN             NaN           NaN           NaN   \n",
       "3               NaN   NaN             NaN           NaN           NaN   \n",
       "4               NaN   NaN             NaN           NaN           NaN   \n",
       "\n",
       "               10         11     12     13             14      15  \\\n",
       "0  low fat yogurt  green tea  honey  salad  mineral water  salmon   \n",
       "1             NaN        NaN    NaN    NaN            NaN     NaN   \n",
       "2             NaN        NaN    NaN    NaN            NaN     NaN   \n",
       "3             NaN        NaN    NaN    NaN            NaN     NaN   \n",
       "4             NaN        NaN    NaN    NaN            NaN     NaN   \n",
       "\n",
       "                  16               17       18         19  \n",
       "0  antioxydant juice  frozen smoothie  spinach  olive oil  \n",
       "1                NaN              NaN      NaN        NaN  \n",
       "2                NaN              NaN      NaN        NaN  \n",
       "3                NaN              NaN      NaN        NaN  \n",
       "4                NaN              NaN      NaN        NaN  "
      ]
     },
     "execution_count": 42,
     "metadata": {},
     "output_type": "execute_result"
    }
   ],
   "source": [
    "#Dalam dataset ini tidak ada baris header. Tetapi, function pd.read_csv memperlakukan baris pertama sebagai header. \n",
    "\n",
    "store_data = pd.read_csv('https://raw.githubusercontent.com/vanggelina10/Exercise_W9_DataMining/main/store_data.csv', header=None)\n",
    "store_data.head()"
   ]
  },
  {
   "cell_type": "code",
   "execution_count": 43,
   "id": "5d6a78f5",
   "metadata": {},
   "outputs": [],
   "source": [
    "#Data Prepocessing\n",
    "\n",
    "records = []\n",
    "for i in range(0, 7501):\n",
    "    records.append([str(store_data.values[i,j]) for j in range(0, 20)])"
   ]
  },
  {
   "cell_type": "code",
   "execution_count": 65,
   "id": "09c24a9f",
   "metadata": {},
   "outputs": [
    {
     "data": {
      "text/plain": [
       "RelationRecord(items=frozenset({'light cream', 'chicken'}), support=0.004532728969470737, ordered_statistics=[OrderedStatistic(items_base=frozenset({'light cream'}), items_add=frozenset({'chicken'}), confidence=0.29059829059829057, lift=4.84395061728395)])"
      ]
     },
     "execution_count": 65,
     "metadata": {},
     "output_type": "execute_result"
    }
   ],
   "source": [
    "#Applying Apriori\n",
    "\n",
    "association_rules = apriori(records, min_support=0.0045, min_confidence=0.2, min_lift=3, min_length=2)\n",
    "association_results = list(association_rules)\n",
    "\n",
    "association_results[0]"
   ]
  },
  {
   "cell_type": "markdown",
   "id": "d48e6a89",
   "metadata": {},
   "source": [
    "# Referensi"
   ]
  },
  {
   "cell_type": "markdown",
   "id": "29f6d2c1",
   "metadata": {},
   "source": [
    "Fauzy M, Saleh K, Asror I. (2015). Penerapan Metode Association Rule Menggunakan Algoritma Apriori pada Simulasi Prediksi Hujan Wilayah Kota Bandung. Core. https://core.ac.uk/download/pdf/299905763.pdf"
   ]
  },
  {
   "cell_type": "markdown",
   "id": "cf388aed",
   "metadata": {},
   "source": [
    "Tumini, & Lestanto, E. (2017). Aplikasi Data Mining Menggunakan Metode Association Rule Dan Algoritma Apriori Berbasis Web Pada Perpustakaan Di SMA Negeri 1 Bungursari. Jurnal Informatika SIMANTIK. https://www.simantik.panca-sakti.ac.id/index.php/simantik/article/view/34"
   ]
  },
  {
   "cell_type": "markdown",
   "id": "a830028c",
   "metadata": {},
   "source": [
    "Aprianti W, Hafizd K, Rizani M. (2017). Implementasi Association Rules dengan Algoritma Apriori pada Dataset Kemiskinan. Media Neliti. https://media.neliti.com/media/publications/280117-implementasi-association-rules-dengan-al-42e5f699.pdf"
   ]
  },
  {
   "cell_type": "markdown",
   "id": "66ce20e9",
   "metadata": {},
   "source": [
    "Rai A. (2022). An Overview of Association Rule Mining & its Application. Upgrad. https://www.upgrad.com/blog/association-rule-mining-an-overview-and-its-applications/"
   ]
  },
  {
   "cell_type": "markdown",
   "id": "2dc4927b",
   "metadata": {},
   "source": [
    "Remanan S. (2018). Association Rule Mining. Medium. https://towardsdatascience.com/association-rule-mining-be4122fc1793"
   ]
  },
  {
   "cell_type": "markdown",
   "id": "d8437bdb",
   "metadata": {},
   "source": [
    "Kenali Data Science Algoritma Apriori pada Machine Learning. (2022). Dqlab. https://dqlab.id/kenali-data-science-algoritma-apriori-pada-machine-learning"
   ]
  },
  {
   "cell_type": "markdown",
   "id": "3d1bff3c",
   "metadata": {},
   "source": [
    "Association Rules. (2022). Ilmu Skripsi. https://www.ilmuskripsi.com/2016/06/association-rules.html"
   ]
  },
  {
   "cell_type": "markdown",
   "id": "e6124ae5",
   "metadata": {},
   "source": [
    "Jena M. (2022). Association Rule Mining Simplified 101. Hevodata. https://hevodata.com/learn/association-rule-mining/"
   ]
  },
  {
   "cell_type": "markdown",
   "id": "db9acfbe",
   "metadata": {},
   "source": [
    "Types of Association Rules in Data Mining. (2022). Geeks for geeks. https://www.geeksforgeeks.org/types-of-association-rules-in-data-mining/"
   ]
  },
  {
   "cell_type": "markdown",
   "id": "3f1fcfbd",
   "metadata": {},
   "source": [
    "Malik U. (2022). Association Rule Mining via Apriori Algorithm in Python. Stack Abuse. https://stackabuse.com/association-rule-mining-via-apriori-algorithm-in-python/"
   ]
  }
 ],
 "metadata": {
  "kernelspec": {
   "display_name": "Python 3",
   "language": "python",
   "name": "python3"
  },
  "language_info": {
   "codemirror_mode": {
    "name": "ipython",
    "version": 3
   },
   "file_extension": ".py",
   "mimetype": "text/x-python",
   "name": "python",
   "nbconvert_exporter": "python",
   "pygments_lexer": "ipython3",
   "version": "3.8.8"
  }
 },
 "nbformat": 4,
 "nbformat_minor": 5
}
